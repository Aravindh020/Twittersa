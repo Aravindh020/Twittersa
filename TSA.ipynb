{
  "nbformat": 4,
  "nbformat_minor": 0,
  "metadata": {
    "colab": {
      "name": "TSA.ipynb",
      "provenance": [],
      "collapsed_sections": [],
      "include_colab_link": true
    },
    "kernelspec": {
      "name": "python3",
      "display_name": "Python 3"
    }
  },
  "cells": [
    {
      "cell_type": "markdown",
      "metadata": {
        "id": "view-in-github",
        "colab_type": "text"
      },
      "source": [
        "<a href=\"https://colab.research.google.com/github/ara2vind0/Twittersa/blob/code/TSA.ipynb\" target=\"_parent\"><img src=\"https://colab.research.google.com/assets/colab-badge.svg\" alt=\"Open In Colab\"/></a>"
      ]
    },
    {
      "cell_type": "code",
      "metadata": {
        "id": "EEQovUEJphKC",
        "colab_type": "code",
        "colab": {}
      },
      "source": [
        "import textblob\n",
        "from textblob import TextBlob"
      ],
      "execution_count": 0,
      "outputs": []
    },
    {
      "cell_type": "code",
      "metadata": {
        "id": "mMbB_7OqpyOe",
        "colab_type": "code",
        "outputId": "e3ef1ab9-edc7-4238-fecc-d90c9f1d55ab",
        "colab": {
          "base_uri": "https://localhost:8080/",
          "height": 67
        }
      },
      "source": [
        "text = TextBlob(\"It was a wonderful movie. I liked it very much.\")\n",
        "print (text.sentiment)\n",
        "print ('polarity: {}'.format(text.sentiment.polarity))\n",
        "print ('subjectivity: {}'.format(text.sentiment.subjectivity))"
      ],
      "execution_count": 9,
      "outputs": [
        {
          "output_type": "stream",
          "text": [
            "Sentiment(polarity=0.62, subjectivity=0.6866666666666666)\n",
            "polarity: 0.62\n",
            "subjectivity: 0.6866666666666666\n"
          ],
          "name": "stdout"
        }
      ]
    },
    {
      "cell_type": "code",
      "metadata": {
        "id": "kBjGJgoCqZ-t",
        "colab_type": "code",
        "outputId": "7d8e235b-1917-4996-d45b-f22eb4819d77",
        "colab": {
          "base_uri": "https://localhost:8080/",
          "height": 34
        }
      },
      "source": [
        "text = TextBlob(\"I liked the acting of the lead actor but I didn't like the movie overall.\")\n",
        "print (text.sentiment)"
      ],
      "execution_count": 10,
      "outputs": [
        {
          "output_type": "stream",
          "text": [
            "Sentiment(polarity=0.19999999999999998, subjectivity=0.26666666666666666)\n"
          ],
          "name": "stdout"
        }
      ]
    },
    {
      "cell_type": "code",
      "metadata": {
        "id": "PxoUZa5mqeQ1",
        "colab_type": "code",
        "outputId": "c3c453a7-55ec-47e7-d1f4-c5bb859e5d29",
        "colab": {
          "base_uri": "https://localhost:8080/",
          "height": 34
        }
      },
      "source": [
        " text = TextBlob(\"I liked the acting of the lead actor and I liked the movie overall.\")\n",
        "print (text.sentiment)"
      ],
      "execution_count": 11,
      "outputs": [
        {
          "output_type": "stream",
          "text": [
            "Sentiment(polarity=0.3, subjectivity=0.4)\n"
          ],
          "name": "stdout"
        }
      ]
    },
    {
      "cell_type": "code",
      "metadata": {
        "id": "iIRbTh-8qjiG",
        "colab_type": "code",
        "outputId": "b0e15b71-3a2b-4bb2-8fe2-0b87a83525d4",
        "colab": {
          "base_uri": "https://localhost:8080/",
          "height": 34
        }
      },
      "source": [
        "from nltk.corpus import twitter_samples\n",
        "print (twitter_samples.fileids())"
      ],
      "execution_count": 12,
      "outputs": [
        {
          "output_type": "stream",
          "text": [
            "['negative_tweets.json', 'positive_tweets.json', 'tweets.20150430-223406.json']\n"
          ],
          "name": "stdout"
        }
      ]
    },
    {
      "cell_type": "code",
      "metadata": {
        "id": "U26cYGPaqwX-",
        "colab_type": "code",
        "outputId": "f06f4ede-d76d-43f5-b7a2-1d211c83d911",
        "colab": {
          "base_uri": "https://localhost:8080/",
          "height": 67
        }
      },
      "source": [
        "import nltk\n",
        "nltk.download('twitter_samples')"
      ],
      "execution_count": 13,
      "outputs": [
        {
          "output_type": "stream",
          "text": [
            "[nltk_data] Downloading package twitter_samples to /root/nltk_data...\n",
            "[nltk_data]   Package twitter_samples is already up-to-date!\n"
          ],
          "name": "stdout"
        },
        {
          "output_type": "execute_result",
          "data": {
            "text/plain": [
              "True"
            ]
          },
          "metadata": {
            "tags": []
          },
          "execution_count": 13
        }
      ]
    },
    {
      "cell_type": "code",
      "metadata": {
        "id": "qL16lnsOqzfU",
        "colab_type": "code",
        "outputId": "649471c4-c57e-4aea-d159-ccafb4d13906",
        "colab": {
          "base_uri": "https://localhost:8080/",
          "height": 34
        }
      },
      "source": [
        "pos_tweets = twitter_samples.strings('positive_tweets.json')\n",
        "print (len(pos_tweets))"
      ],
      "execution_count": 14,
      "outputs": [
        {
          "output_type": "stream",
          "text": [
            "5000\n"
          ],
          "name": "stdout"
        }
      ]
    },
    {
      "cell_type": "code",
      "metadata": {
        "id": "9svdI2vTq8Xp",
        "colab_type": "code",
        "outputId": "f5100db5-3c35-4835-9d92-687c5da225c6",
        "colab": {
          "base_uri": "https://localhost:8080/",
          "height": 34
        }
      },
      "source": [
        "neg_tweets = twitter_samples.strings('negative_tweets.json')\n",
        "print (len(neg_tweets))"
      ],
      "execution_count": 15,
      "outputs": [
        {
          "output_type": "stream",
          "text": [
            "5000\n"
          ],
          "name": "stdout"
        }
      ]
    },
    {
      "cell_type": "code",
      "metadata": {
        "id": "6kyXZThVrInx",
        "colab_type": "code",
        "colab": {}
      },
      "source": [
        "pos_tweets_set = []\n",
        "for tweet in pos_tweets:\n",
        "    pos_tweets_set.append((tweet, 'pos'))\n"
      ],
      "execution_count": 0,
      "outputs": []
    },
    {
      "cell_type": "code",
      "metadata": {
        "id": "PRFCuGIxtK5g",
        "colab_type": "code",
        "colab": {}
      },
      "source": [
        "neg_tweets_set = []\n",
        "for tweet in neg_tweets:\n",
        "    neg_tweets_set.append((tweet, 'neg'))"
      ],
      "execution_count": 0,
      "outputs": []
    },
    {
      "cell_type": "code",
      "metadata": {
        "id": "hzr00r3VrmcD",
        "colab_type": "code",
        "outputId": "77de0f16-234f-4747-ba30-d63ec2c0c45d",
        "colab": {
          "base_uri": "https://localhost:8080/",
          "height": 34
        }
      },
      "source": [
        "print (len(pos_tweets_set), len(neg_tweets_set))"
      ],
      "execution_count": 18,
      "outputs": [
        {
          "output_type": "stream",
          "text": [
            "5000 5000\n"
          ],
          "name": "stdout"
        }
      ]
    },
    {
      "cell_type": "code",
      "metadata": {
        "id": "FyiM_beurqzu",
        "colab_type": "code",
        "colab": {}
      },
      "source": [
        "from random import shuffle \n",
        "shuffle(pos_tweets_set)\n",
        "shuffle(neg_tweets_set)"
      ],
      "execution_count": 0,
      "outputs": []
    },
    {
      "cell_type": "code",
      "metadata": {
        "id": "kCp4cYUWru8v",
        "colab_type": "code",
        "colab": {}
      },
      "source": [
        "test_set = pos_tweets_set[:100] + neg_tweets_set[:100]\n",
        "train_set = pos_tweets_set[100:300] + neg_tweets_set[100:300]"
      ],
      "execution_count": 0,
      "outputs": []
    },
    {
      "cell_type": "code",
      "metadata": {
        "id": "r7H7q0Z7ry0j",
        "colab_type": "code",
        "outputId": "87896419-fba5-4439-c05e-7955f800ba4b",
        "colab": {
          "base_uri": "https://localhost:8080/",
          "height": 34
        }
      },
      "source": [
        "print(len(test_set),  len(train_set))"
      ],
      "execution_count": 21,
      "outputs": [
        {
          "output_type": "stream",
          "text": [
            "200 400\n"
          ],
          "name": "stdout"
        }
      ]
    },
    {
      "cell_type": "code",
      "metadata": {
        "id": "znQx_Ffwr_sE",
        "colab_type": "code",
        "outputId": "846b21d9-94da-4c7b-88ac-b831d45e7606",
        "colab": {
          "base_uri": "https://localhost:8080/",
          "height": 67
        }
      },
      "source": [
        "import nltk\n",
        "nltk.download('punkt')"
      ],
      "execution_count": 22,
      "outputs": [
        {
          "output_type": "stream",
          "text": [
            "[nltk_data] Downloading package punkt to /root/nltk_data...\n",
            "[nltk_data]   Unzipping tokenizers/punkt.zip.\n"
          ],
          "name": "stdout"
        },
        {
          "output_type": "execute_result",
          "data": {
            "text/plain": [
              "True"
            ]
          },
          "metadata": {
            "tags": []
          },
          "execution_count": 22
        }
      ]
    },
    {
      "cell_type": "code",
      "metadata": {
        "id": "pxrtWEDLr17I",
        "colab_type": "code",
        "colab": {}
      },
      "source": [
        "from textblob.classifiers import NaiveBayesClassifier\n",
        "classifier = NaiveBayesClassifier(train_set)"
      ],
      "execution_count": 0,
      "outputs": []
    },
    {
      "cell_type": "code",
      "metadata": {
        "id": "12FPRRzRr5TN",
        "colab_type": "code",
        "outputId": "213ec98b-f956-4d73-9b3d-33987c9cee02",
        "colab": {
          "base_uri": "https://localhost:8080/",
          "height": 34
        }
      },
      "source": [
        "accuracy = classifier.accuracy(test_set)\n",
        "print (accuracy)"
      ],
      "execution_count": 24,
      "outputs": [
        {
          "output_type": "stream",
          "text": [
            "0.705\n"
          ],
          "name": "stdout"
        }
      ]
    },
    {
      "cell_type": "code",
      "metadata": {
        "id": "1w6AovXbsGOV",
        "colab_type": "code",
        "outputId": "c8433070-c758-4ddb-ed7b-a2ea2b95d728",
        "colab": {
          "base_uri": "https://localhost:8080/",
          "height": 218
        }
      },
      "source": [
        "print (classifier.show_informative_features(10))"
      ],
      "execution_count": 25,
      "outputs": [
        {
          "output_type": "stream",
          "text": [
            "Most Informative Features\n",
            "        contains(Thanks) = True              pos : neg    =      9.7 : 1.0\n",
            "          contains(want) = True              neg : pos    =      7.0 : 1.0\n",
            "            contains(na) = True              neg : pos    =      7.0 : 1.0\n",
            "          contains(from) = True              pos : neg    =      6.3 : 1.0\n",
            "          contains(miss) = True              neg : pos    =      5.7 : 1.0\n",
            "             contains(u) = True              pos : neg    =      5.7 : 1.0\n",
            "        contains(follow) = True              pos : neg    =      5.0 : 1.0\n",
            "           contains(too) = True              neg : pos    =      4.6 : 1.0\n",
            "         contains(there) = True              pos : neg    =      4.3 : 1.0\n",
            "          contains(good) = True              pos : neg    =      4.3 : 1.0\n",
            "None\n"
          ],
          "name": "stdout"
        }
      ]
    },
    {
      "cell_type": "code",
      "metadata": {
        "id": "0Hu01gb1soIc",
        "colab_type": "code",
        "outputId": "a04710b0-2adb-41b5-a412-390aaf7087d3",
        "colab": {
          "base_uri": "https://localhost:8080/",
          "height": 34
        }
      },
      "source": [
        "text = \"I don't like movies having happy ending.\"\n",
        "print (classifier.classify(text))"
      ],
      "execution_count": 26,
      "outputs": [
        {
          "output_type": "stream",
          "text": [
            "neg\n"
          ],
          "name": "stdout"
        }
      ]
    },
    {
      "cell_type": "code",
      "metadata": {
        "id": "_7yzSyjfuFSr",
        "colab_type": "code",
        "outputId": "c55b7c93-13c2-4840-fdd6-10ee98747cd4",
        "colab": {
          "base_uri": "https://localhost:8080/",
          "height": 34
        }
      },
      "source": [
        "text= \"good morning\"\n",
        "print (classifier.classify(text))"
      ],
      "execution_count": 27,
      "outputs": [
        {
          "output_type": "stream",
          "text": [
            "pos\n"
          ],
          "name": "stdout"
        }
      ]
    },
    {
      "cell_type": "code",
      "metadata": {
        "id": "a147a2kBsxPx",
        "colab_type": "code",
        "colab": {}
      },
      "source": [
        "text = \"The script was predictable. However, it was a wonderful movie. I liked it very much.\"\n",
        "blob = TextBlob(text, classifier=classifier)"
      ],
      "execution_count": 0,
      "outputs": []
    },
    {
      "cell_type": "code",
      "metadata": {
        "id": "LZch59drs2Fs",
        "colab_type": "code",
        "outputId": "3b0b8c8c-22b8-4184-8715-7f13a9cecc1f",
        "colab": {
          "base_uri": "https://localhost:8080/",
          "height": 34
        }
      },
      "source": [
        "print (blob)"
      ],
      "execution_count": 29,
      "outputs": [
        {
          "output_type": "stream",
          "text": [
            "The script was predictable. However, it was a wonderful movie. I liked it very much.\n"
          ],
          "name": "stdout"
        }
      ]
    },
    {
      "cell_type": "code",
      "metadata": {
        "id": "5ztufA8ts5pl",
        "colab_type": "code",
        "outputId": "9847b2e2-04bb-4231-d7f4-bdaec230b0a7",
        "colab": {
          "base_uri": "https://localhost:8080/",
          "height": 34
        }
      },
      "source": [
        "print (blob.classify())"
      ],
      "execution_count": 30,
      "outputs": [
        {
          "output_type": "stream",
          "text": [
            "pos\n"
          ],
          "name": "stdout"
        }
      ]
    },
    {
      "cell_type": "code",
      "metadata": {
        "id": "y6PuAh9Ps-Ax",
        "colab_type": "code",
        "outputId": "a3515257-b030-4a4e-d483-bb34ea45936a",
        "colab": {
          "base_uri": "https://localhost:8080/",
          "height": 67
        }
      },
      "source": [
        "for sentence in blob.sentences:\n",
        "    print (\"{} ({})\".format(sentence, sentence.classify()))"
      ],
      "execution_count": 31,
      "outputs": [
        {
          "output_type": "stream",
          "text": [
            "The script was predictable. (neg)\n",
            "However, it was a wonderful movie. (pos)\n",
            "I liked it very much. (neg)\n"
          ],
          "name": "stdout"
        }
      ]
    },
    {
      "cell_type": "code",
      "metadata": {
        "id": "NbtLaTixtBnZ",
        "colab_type": "code",
        "outputId": "3f9f2660-3827-472f-fa24-822a63f4e899",
        "colab": {
          "base_uri": "https://localhost:8080/",
          "height": 34
        }
      },
      "source": [
        "text = \"i dont like you\"\n",
        "print (classifier.classify(text))"
      ],
      "execution_count": 32,
      "outputs": [
        {
          "output_type": "stream",
          "text": [
            "neg\n"
          ],
          "name": "stdout"
        }
      ]
    },
    {
      "cell_type": "code",
      "metadata": {
        "id": "uMxWuuRCu85I",
        "colab_type": "code",
        "colab": {
          "base_uri": "https://localhost:8080/",
          "height": 34
        },
        "outputId": "570bd315-ee3e-47b3-d7e6-494ff3b5c25d"
      },
      "source": [
        "text = \"jackson is an idiot\"\n",
        "print(classifier.classify(text))"
      ],
      "execution_count": 33,
      "outputs": [
        {
          "output_type": "stream",
          "text": [
            "neg\n"
          ],
          "name": "stdout"
        }
      ]
    },
    {
      "cell_type": "code",
      "metadata": {
        "id": "WNemhuIRehTH",
        "colab_type": "code",
        "colab": {}
      },
      "source": [
        ""
      ],
      "execution_count": 0,
      "outputs": []
    }
  ]
}